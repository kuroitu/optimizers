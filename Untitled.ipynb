{
 "cells": [
  {
   "cell_type": "code",
   "execution_count": 4,
   "id": "1b7f693f-6967-4115-9d0f-e655309c774a",
   "metadata": {},
   "outputs": [
    {
     "name": "stdout",
     "output_type": "stream",
     "text": [
      "id(x)=4468749968, x=array([3, 4])\n",
      "id(y)=4468749968, y=array([3, 4])\n",
      "id(z)=4468749296, z=array([1, 2])\n"
     ]
    }
   ],
   "source": [
    "import numpy as np\n",
    "\n",
    "x = np.array([1, 2])\n",
    "y = np.array([3, 4])\n",
    "z = x\n",
    "x = y\n",
    "print(f\"{id(x)=}, {x=}\\n{id(y)=}, {y=}\\n{id(z)=}, {z=}\")"
   ]
  },
  {
   "cell_type": "code",
   "execution_count": null,
   "id": "466400a5-d174-4a8d-b0ca-fd78dae032b3",
   "metadata": {},
   "outputs": [],
   "source": []
  }
 ],
 "metadata": {
  "kernelspec": {
   "display_name": "Python 3 (ipykernel)",
   "language": "python",
   "name": "python3"
  },
  "language_info": {
   "codemirror_mode": {
    "name": "ipython",
    "version": 3
   },
   "file_extension": ".py",
   "mimetype": "text/x-python",
   "name": "python",
   "nbconvert_exporter": "python",
   "pygments_lexer": "ipython3",
   "version": "3.8.12"
  }
 },
 "nbformat": 4,
 "nbformat_minor": 5
}
